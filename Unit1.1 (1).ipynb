{
 "cells": [
  {
   "cell_type": "code",
   "execution_count": 2,
   "id": "e270ec84-2a36-4252-a050-10ce0b7cd230",
   "metadata": {},
   "outputs": [
    {
     "name": "stdout",
     "output_type": "stream",
     "text": [
      "The year value is: 2019\n",
      "The pi value is: 3.14\n",
      "The program version value is: Python 3.7 \n",
      "The file exists value is: True\n"
     ]
    }
   ],
   "source": [
    "def main():\n",
    "# integer variable\n",
    "   year = 2019\n",
    "   print(\"The year value is: {}\".format(year))\n",
    "# float variable\n",
    "   pi = 3.14\n",
    "   print(\"The pi value is: {}\".format(pi))\n",
    "# string variable\n",
    "   program_version = \"Python 3.7 \"\n",
    "   print(\"The program version value is: {}\".format(program_version))\n",
    "# boolean variable\n",
    "   file_exists = True\n",
    "   print(\"The file exists value is: {}\".format(file_exists))\n",
    "if __name__ == '__main__':\n",
    "   main()"
   ]
  },
  {
   "cell_type": "code",
   "execution_count": 4,
   "id": "e2786682-991b-47ae-b8da-bf8f87774183",
   "metadata": {},
   "outputs": [
    {
     "data": {
      "text/plain": [
       "2019"
      ]
     },
     "execution_count": 4,
     "metadata": {},
     "output_type": "execute_result"
    }
   ],
   "source": [
    "year = 2019\n",
    "year"
   ]
  },
  {
   "cell_type": "code",
   "execution_count": 6,
   "id": "9453e3ca-973f-44a7-b7c0-3b6ab23318f1",
   "metadata": {},
   "outputs": [
    {
     "name": "stdout",
     "output_type": "stream",
     "text": [
      "An example of a list is: [1, 2, 3, 'a', 'b', 'c']\n",
      "An example of a tuple is: (1, 2, 3, 'a', 'b', 'c')\n",
      "An example of a dictionary is: {1: 'a', 2: 'b', 3: 'c'}\n",
      "An example of a set is: {1, 2, 3, 4, 5}\n",
      "An example of a frozenset is: frozenset({1, 2, 3, 4, 5})\n"
     ]
    }
   ],
   "source": [
    "def main():\n",
    "   list_example = [1, 2, 3, \"a\", \"b\", \"c\"]\n",
    "   print(\"An example of a list is: {}\".format(list_example))\n",
    "   tuple_example = (1, 2, 3, \"a\", \"b\", \"c\")\n",
    "   print(\"An example of a tuple is: {}\".format(tuple_example))\n",
    "   dictionary_example = {1:\"a\", 2:\"b\", 3:\"c\"}\n",
    "   print(\"An example of a dictionary is: {}\".format(dictionary_example))\n",
    "   set_example = set([1, 2, 3, 4, 5])\n",
    "   print(\"An example of a set is: {}\".format(set_example))\n",
    "   frozenset_example = frozenset([1, 2, 3, 4, 5])\n",
    "   print(\"An example of a frozenset is: {}\".format(frozenset_example))\n",
    "if __name__ == '__main__':\n",
    "   main()"
   ]
  },
  {
   "cell_type": "code",
   "execution_count": 12,
   "id": "e1f60f2a-fda5-4d4b-8b7b-e8cb3fc0acd5",
   "metadata": {},
   "outputs": [
    {
     "name": "stdout",
     "output_type": "stream",
     "text": [
      "python\n"
     ]
    }
   ],
   "source": [
    "def main():\n",
    "#strings are immutable objects\n",
    " string_value = \"python\"\n",
    " print(string_value)\n",
    "#print(string_value[5])\n",
    "if __name__ == '__main__':\n",
    "   main()"
   ]
  },
  {
   "cell_type": "code",
   "execution_count": 16,
   "id": "8dffad5f-af56-4237-985b-84e0b5febeb0",
   "metadata": {},
   "outputs": [
    {
     "name": "stdout",
     "output_type": "stream",
     "text": [
      "python\n",
      "n\n"
     ]
    }
   ],
   "source": [
    "def main():\n",
    "#strings are immutable objects\n",
    " string_value = \"python\"\n",
    " print(string_value)\n",
    " print(string_value[5])\n",
    "if __name__ == '__main__':\n",
    "   main()"
   ]
  },
  {
   "cell_type": "code",
   "execution_count": 20,
   "id": "7f95b593-5f24-4ab8-a82e-30e50b5da113",
   "metadata": {},
   "outputs": [
    {
     "ename": "TypeError",
     "evalue": "'str' object does not support item assignment",
     "output_type": "error",
     "traceback": [
      "\u001b[0;31m---------------------------------------------------------------------------\u001b[0m",
      "\u001b[0;31mTypeError\u001b[0m                                 Traceback (most recent call last)",
      "Cell \u001b[0;32mIn[20], line 2\u001b[0m\n\u001b[1;32m      1\u001b[0m string_value \u001b[38;5;241m=\u001b[39m \u001b[38;5;124m\"\u001b[39m\u001b[38;5;124mpython\u001b[39m\u001b[38;5;124m\"\u001b[39m\n\u001b[0;32m----> 2\u001b[0m string_value[\u001b[38;5;241m5\u001b[39m] \u001b[38;5;241m=\u001b[39m \u001b[38;5;124m\"\u001b[39m\u001b[38;5;124mm\u001b[39m\u001b[38;5;124m\"\u001b[39m\n\u001b[1;32m      3\u001b[0m \u001b[38;5;28mprint\u001b[39m(string_value[\u001b[38;5;241m5\u001b[39m])\n",
      "\u001b[0;31mTypeError\u001b[0m: 'str' object does not support item assignment"
     ]
    }
   ],
   "source": [
    "string_value = \"python\"\n",
    "string_value[5] = \"m\"\n",
    "print(string_value[5])"
   ]
  },
  {
   "cell_type": "code",
   "execution_count": 22,
   "id": "1cd6cf7d-0ae0-4322-97aa-c65ed942b219",
   "metadata": {},
   "outputs": [
    {
     "name": "stdout",
     "output_type": "stream",
     "text": [
      "69\n"
     ]
    }
   ],
   "source": [
    "#string length using len() method\n",
    "string_0 = \"Python is becoming the worlds most popular programming language today\" \n",
    "print(len(string_0))"
   ]
  },
  {
   "cell_type": "code",
   "execution_count": 24,
   "id": "4e778621-390d-4446-8eb6-a0de7346aa3e",
   "metadata": {},
   "outputs": [
    {
     "name": "stdout",
     "output_type": "stream",
     "text": [
      "Python is becoming the worlds most popular programming language today\n"
     ]
    }
   ],
   "source": [
    "string_1 = \"Python is becoming the worlds most \" + \"popular programming language today\"\n",
    "print(string_1)"
   ]
  },
  {
   "cell_type": "code",
   "execution_count": 30,
   "id": "60cf7b18-da94-4fab-8e95-2ac9f2e0b73b",
   "metadata": {},
   "outputs": [
    {
     "data": {
      "text/plain": [
       "'Python is becoming the worlds most popular programming language today'"
      ]
     },
     "execution_count": 30,
     "metadata": {},
     "output_type": "execute_result"
    }
   ],
   "source": [
    "string_2 = \"\".join((\"Python is becoming the worlds most \" ,\"popular programming language today\"))\n",
    "string_2"
   ]
  },
  {
   "cell_type": "code",
   "execution_count": 32,
   "id": "a1c0ac6b-3596-43e3-86c7-afd614fd932f",
   "metadata": {},
   "outputs": [
    {
     "name": "stdout",
     "output_type": "stream",
     "text": [
      "Python\n"
     ]
    }
   ],
   "source": [
    "string_3 = string_0[0:6]\n",
    "print(string_3)"
   ]
  },
  {
   "cell_type": "code",
   "execution_count": 34,
   "id": "e9f8cbbe-0d0d-403d-b185-f5439ce429a6",
   "metadata": {},
   "outputs": [
    {
     "name": "stdout",
     "output_type": "stream",
     "text": [
      "is becoming the worlds most popular programming language today\n"
     ]
    }
   ],
   "source": [
    "string_4 = string_0[7:]\n",
    "print(string_4)"
   ]
  },
  {
   "cell_type": "code",
   "execution_count": 36,
   "id": "9bf9c0f7-281d-4b50-8b3f-c6796817bd9d",
   "metadata": {},
   "outputs": [
    {
     "name": "stdout",
     "output_type": "stream",
     "text": [
      "Python is becoming the worlds most popular programming language\n"
     ]
    }
   ],
   "source": [
    "string_5 = string_0[:-6]\n",
    "print(string_5)"
   ]
  },
  {
   "cell_type": "code",
   "execution_count": 38,
   "id": "f5233b0f-a095-4123-81c6-a215ba6818f9",
   "metadata": {},
   "outputs": [
    {
     "name": "stdout",
     "output_type": "stream",
     "text": [
      "programming\n"
     ]
    }
   ],
   "source": [
    "string_6 = string_0[43:54]\n",
    "print(string_6)"
   ]
  },
  {
   "cell_type": "code",
   "execution_count": 40,
   "id": "d2d59918-afa3-4129-9df6-232981f0ad0c",
   "metadata": {},
   "outputs": [
    {
     "name": "stdout",
     "output_type": "stream",
     "text": [
      "5\n"
     ]
    }
   ],
   "source": [
    "string_7 = string_0.count(\"a\")\n",
    "print(string_7)"
   ]
  },
  {
   "cell_type": "code",
   "execution_count": 42,
   "id": "203d503e-1d9e-4dfe-a145-93d6d7a7563f",
   "metadata": {},
   "outputs": [
    {
     "name": "stdout",
     "output_type": "stream",
     "text": [
      "55\n"
     ]
    }
   ],
   "source": [
    "string_8 = string_0.find(\"language\")\n",
    "print(string_8)"
   ]
  },
  {
   "cell_type": "code",
   "execution_count": 44,
   "id": "6815b0cb-67e6-4c60-9dd1-6c84a1ad0072",
   "metadata": {},
   "outputs": [
    {
     "name": "stdout",
     "output_type": "stream",
     "text": [
      "Python is becoming the worlds most popular programming language today\n"
     ]
    }
   ],
   "source": [
    "string_9 = string_0.strip()\n",
    "print(string_9)"
   ]
  },
  {
   "cell_type": "code",
   "execution_count": 46,
   "id": "d294ebf3-3f72-4fae-9b3a-039af269f8d7",
   "metadata": {},
   "outputs": [
    {
     "name": "stdout",
     "output_type": "stream",
     "text": [
      "python is becoming the worlds most popular programming language today\n"
     ]
    }
   ],
   "source": [
    "string_10 = string_0.lower()\n",
    "print(string_10)"
   ]
  },
  {
   "cell_type": "code",
   "execution_count": 48,
   "id": "a987fff3-fb00-40e8-9a1a-c94a7fb5ee91",
   "metadata": {},
   "outputs": [
    {
     "name": "stdout",
     "output_type": "stream",
     "text": [
      "PYTHON IS BECOMING THE WORLDS MOST POPULAR PROGRAMMING LANGUAGE TODAY\n"
     ]
    }
   ],
   "source": [
    "string_11 = string_0.upper()\n",
    "print(string_11)"
   ]
  },
  {
   "cell_type": "code",
   "execution_count": 50,
   "id": "e6e4294e-48ac-41e5-8b28-4b87877a0886",
   "metadata": {},
   "outputs": [
    {
     "name": "stdout",
     "output_type": "stream",
     "text": [
      "Java is becoming the worlds most popular programming language today\n"
     ]
    }
   ],
   "source": [
    "string_12 = string_0.replace(\"Python\", \"Java\")\n",
    "print(string_12)"
   ]
  },
  {
   "cell_type": "code",
   "execution_count": 52,
   "id": "ccc9362d-ab1a-4c0f-b85e-a2c87ccdced6",
   "metadata": {},
   "outputs": [
    {
     "name": "stdout",
     "output_type": "stream",
     "text": [
      "['Python is becoming the worlds ', ' popular programming language today']\n"
     ]
    }
   ],
   "source": [
    "string_13 = string_0.split(\"most\")\n",
    "print(string_13)"
   ]
  },
  {
   "cell_type": "code",
   "execution_count": 54,
   "id": "be5f1da8-d690-4bf8-986f-6519080aed06",
   "metadata": {},
   "outputs": [
    {
     "name": "stdout",
     "output_type": "stream",
     "text": [
      "True\n"
     ]
    }
   ],
   "source": [
    "#check if 'popular' word is in string\n",
    "string_14 = \"popular\" in string_0\n",
    "print(string_14)"
   ]
  },
  {
   "cell_type": "code",
   "execution_count": 56,
   "id": "73c6219b-dd6c-458f-9b18-e1cac0be2762",
   "metadata": {},
   "outputs": [
    {
     "name": "stdout",
     "output_type": "stream",
     "text": [
      "True\n"
     ]
    }
   ],
   "source": [
    "string_15 = \"POPULAR\".lower() not in string_0\n",
    "print(string_15)"
   ]
  },
  {
   "cell_type": "code",
   "execution_count": 58,
   "id": "ce2da195-f083-48d5-8946-3f163985358c",
   "metadata": {},
   "outputs": [
    {
     "data": {
      "text/plain": [
       "'Python is becoming the worlds most popular programming language today'"
      ]
     },
     "execution_count": 58,
     "metadata": {},
     "output_type": "execute_result"
    }
   ],
   "source": [
    "string_0"
   ]
  }
 ],
 "metadata": {
  "kernelspec": {
   "display_name": "anaconda-panel-2023.05-py310",
   "language": "python",
   "name": "conda-env-anaconda-panel-2023.05-py310-py"
  },
  "language_info": {
   "codemirror_mode": {
    "name": "ipython",
    "version": 3
   },
   "file_extension": ".py",
   "mimetype": "text/x-python",
   "name": "python",
   "nbconvert_exporter": "python",
   "pygments_lexer": "ipython3",
   "version": "3.11.5"
  }
 },
 "nbformat": 4,
 "nbformat_minor": 5
}

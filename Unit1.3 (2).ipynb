{
 "cells": [
  {
   "cell_type": "code",
   "execution_count": 1,
   "id": "68610aa9-f162-4986-8c0a-1c62fb0d34f8",
   "metadata": {},
   "outputs": [
    {
     "name": "stdout",
     "output_type": "stream",
     "text": [
      "x < y is true\n"
     ]
    }
   ],
   "source": [
    "def main():\n",
    "   x = 10\n",
    "   y = 20\n",
    "   if x < y:\n",
    "      print(\"x < y is true\")\n",
    "if __name__ == '__main__':\n",
    "   main()\n"
   ]
  },
  {
   "cell_type": "code",
   "execution_count": 7,
   "id": "a1324306-46ac-435f-9e60-fd97956b6752",
   "metadata": {},
   "outputs": [
    {
     "name": "stdout",
     "output_type": "stream",
     "text": [
      "x < y is false\n"
     ]
    }
   ],
   "source": [
    "def main():\n",
    "    x = 20\n",
    "    y = 10\n",
    "    if x < y:\n",
    "        print(\"x < y is true\")\n",
    "    if x > y:\n",
    "        print(\"x < y is false\")\n",
    "if __name__ == '__main__':\n",
    "   main()"
   ]
  },
  {
   "cell_type": "code",
   "execution_count": 11,
   "id": "093efbbf-5b92-438f-a9b9-7955a0107dd1",
   "metadata": {},
   "outputs": [
    {
     "name": "stdout",
     "output_type": "stream",
     "text": [
      "x < y is false\n"
     ]
    }
   ],
   "source": [
    "def main():\n",
    "    x = 20\n",
    "    y = 10\n",
    "    if x < y:\n",
    "        print(\"x < y is true\")\n",
    "    else:\n",
    "        print(\"x < y is false\")\n",
    "if __name__ == '__main__':\n",
    "   main()\n",
    "        \n"
   ]
  },
  {
   "cell_type": "code",
   "execution_count": 19,
   "id": "95655a54-1908-4176-9b65-7f51e252aba2",
   "metadata": {},
   "outputs": [
    {
     "name": "stdout",
     "output_type": "stream",
     "text": [
      "x > y is true\n"
     ]
    }
   ],
   "source": [
    "def main():\n",
    "    x = 30\n",
    "    y = 20\n",
    "    if x < y:\n",
    "        print(\"x < y is true\")\n",
    "    elif x > y:\n",
    "        print(\"x > y is true\")\n",
    "    elif x == y:\n",
    "        print(\"x = y is true\")\n",
    "    else:\n",
    "        print(\"there is no condition for x and y\")\n",
    "if __name__ == '__main__':\n",
    "   main()"
   ]
  },
  {
   "cell_type": "code",
   "execution_count": 21,
   "id": "51680076-68cd-472a-9214-c03ef37277a4",
   "metadata": {},
   "outputs": [
    {
     "name": "stdout",
     "output_type": "stream",
     "text": [
      "The eBook is: python\n",
      "The eBook is: perl\n",
      "The eBook is: ruby\n"
     ]
    }
   ],
   "source": [
    "def main():\n",
    "   ebooks = [\"python\", \"perl\", \"ruby\"]\n",
    "   for item in ebooks:\n",
    "       print(\"The eBook is: {}\".format(item))\n",
    "if __name__ == '__main__':\n",
    "   main()\n",
    "\n"
   ]
  },
  {
   "cell_type": "code",
   "execution_count": 23,
   "id": "f404f0b8-cb30-4107-8112-a157e80c5485",
   "metadata": {},
   "outputs": [
    {
     "name": "stdout",
     "output_type": "stream",
     "text": [
      "6\n",
      "7\n",
      "8\n",
      "9\n",
      "10\n"
     ]
    }
   ],
   "source": [
    "def main():\n",
    "   for x in range(6, 11):\n",
    "       print(x)\n",
    "if __name__ == '__main__':\n",
    "   main()\n"
   ]
  },
  {
   "cell_type": "code",
   "execution_count": 35,
   "id": "9900ba23-bf9a-4325-862a-fa348007d011",
   "metadata": {},
   "outputs": [],
   "source": [
    "def main():\n",
    "    ebooks = [\"python\", \"perl\", \"ruby\"] \n",
    "    i =0\n",
    "    while ebooks[i] != \"python\":\n",
    "       print(ebooks[i])\n",
    "       i += 1\n",
    "if __name__ == '__main__':\n",
    "   main()"
   ]
  },
  {
   "cell_type": "code",
   "execution_count": 45,
   "id": "d160aaef-c533-43c7-ac18-b829ce430873",
   "metadata": {},
   "outputs": [
    {
     "name": "stdout",
     "output_type": "stream",
     "text": [
      "python\n",
      "perl\n"
     ]
    }
   ],
   "source": [
    "def main ():\n",
    "    ebooks = [\"python\", \"perl\", \"ruby\"]\n",
    "    for item in ebooks:\n",
    "     print(item)\n",
    "     if item == \"perl\":\n",
    "       break\n",
    "if __name__ == '__main__':\n",
    "   main()"
   ]
  },
  {
   "cell_type": "code",
   "execution_count": 47,
   "id": "93f36284-4ec2-4e6a-9ecd-dd3b74b54e6e",
   "metadata": {},
   "outputs": [
    {
     "name": "stdout",
     "output_type": "stream",
     "text": [
      "python\n",
      "perl\n"
     ]
    }
   ],
   "source": [
    "def main():\n",
    "   ebooks = [\"python\", \"perl\", \"ruby\"]\n",
    "   for item in ebooks:\n",
    "       if item == \"ruby\":\n",
    "           break\n",
    "       else:\n",
    "           print(item)\n",
    "           continue\n",
    "if __name__ == '__main__':\n",
    "   main()\n",
    "\n"
   ]
  },
  {
   "cell_type": "code",
   "execution_count": 63,
   "id": "7a0752be-818e-4c54-add6-6d6f14bb5397",
   "metadata": {},
   "outputs": [
    {
     "ename": "SyntaxError",
     "evalue": "invalid syntax (1216451443.py, line 4)",
     "output_type": "error",
     "traceback": [
      "\u001b[0;36m  Cell \u001b[0;32mIn[63], line 4\u001b[0;36m\u001b[0m\n\u001b[0;31m    else:\u001b[0m\n\u001b[0m    ^\u001b[0m\n\u001b[0;31mSyntaxError\u001b[0m\u001b[0;31m:\u001b[0m invalid syntax\n"
     ]
    }
   ],
   "source": [
    "def print_no_one(value):\n",
    "  if value == 1:\n",
    "      pass\n",
    "else:\n",
    "   print(value)\n",
    "\n"
   ]
  },
  {
   "cell_type": "code",
   "execution_count": 74,
   "id": "4adf41c8-6ab5-4830-ad50-bfe2a512fb89",
   "metadata": {},
   "outputs": [
    {
     "name": "stdin",
     "output_type": "stream",
     "text": [
      "Enter your zip code:  122001\n"
     ]
    },
    {
     "name": "stdout",
     "output_type": "stream",
     "text": [
      "The entered zip code is: 122001\n"
     ]
    }
   ],
   "source": [
    "def main():\n",
    "   zip_code = input(\"Enter your zip code: \")\n",
    "   print(\"The entered zip code is: {}\".format(zip_code))\n",
    "if __name__ == '__main__':\n",
    "   main()"
   ]
  },
  {
   "cell_type": "code",
   "execution_count": 2,
   "id": "084b2e7b-f4ae-4050-952b-4587a0189fc7",
   "metadata": {},
   "outputs": [],
   "source": [
    "def main():\n",
    "   file_test = open(\"test.txt\", \"w\")\n",
    "   file_test.write( \"Python is a great language.\\nSure!\\n\")\n",
    "   file_test.close()\n",
    "if __name__ == '__main__':\n",
    "   main()\n"
   ]
  },
  {
   "cell_type": "code",
   "execution_count": 14,
   "id": "776c8709-a31e-4fe2-b8ab-e7495a65b7c0",
   "metadata": {},
   "outputs": [],
   "source": [
    "def main():\n",
    "   file_test = open(\"test.txt\", \"a\")\n",
    "   file_test.write(\"Add this new line to the end of the file test.txt\")\n",
    "   file_test.close()\n",
    "if __name__ == '__main__':\n",
    "   main()\n",
    "    "
   ]
  },
  {
   "cell_type": "code",
   "execution_count": 16,
   "id": "3b2fa7bf-d7fc-4d52-8fe8-db5454d52709",
   "metadata": {},
   "outputs": [
    {
     "name": "stdout",
     "output_type": "stream",
     "text": [
      "Python is a great language.\n",
      "Sure!\n",
      "Add this new line to the end of the file test.txt\n"
     ]
    }
   ],
   "source": [
    "def main():\n",
    "   file_test = open(\"test.txt\", \"r\")\n",
    "   print(file_test.read())\n",
    "if __name__ == '__main__':\n",
    "   main()\n"
   ]
  },
  {
   "cell_type": "code",
   "execution_count": 18,
   "id": "b0e8b06e-98a7-4b10-af75-7c7d37f4d201",
   "metadata": {},
   "outputs": [
    {
     "name": "stdout",
     "output_type": "stream",
     "text": [
      "Python is a great language.\n",
      "\n",
      "Sure!\n",
      "\n",
      "Add this new line to the end of the file test.txt\n"
     ]
    }
   ],
   "source": [
    "def main():\n",
    "   file_test = open(\"test.txt\", \"r\")\n",
    "   for item in file_test:\n",
    "     print(item)\n",
    "if __name__ == '__main__':\n",
    "   main()\n"
   ]
  },
  {
   "cell_type": "code",
   "execution_count": 24,
   "id": "e8a2af48-238d-4b94-9670-b99cb09a18db",
   "metadata": {},
   "outputs": [
    {
     "name": "stdout",
     "output_type": "stream",
     "text": [
      "Python is \n"
     ]
    }
   ],
   "source": [
    "def main():\n",
    "   file_test = open(\"test.txt\", \"r\")\n",
    "   lines = file_test.readline(10)\n",
    "   print(lines)\n",
    "if __name__ == '__main__':\n",
    "   main()"
   ]
  },
  {
   "cell_type": "code",
   "execution_count": 9,
   "id": "c6d37d35-a4df-49d2-a37c-60f41d72295b",
   "metadata": {
    "collapsed": true,
    "jupyter": {
     "outputs_hidden": true
    }
   },
   "outputs": [
    {
     "ename": "SyntaxError",
     "evalue": "unterminated string literal (detected at line 2) (3027454764.py, line 2)",
     "output_type": "error",
     "traceback": [
      "\u001b[0;36m  Cell \u001b[0;32mIn[9], line 2\u001b[0;36m\u001b[0m\n\u001b[0;31m    folder_path = Path(r\" Desktop/MS_AI)\u001b[0m\n\u001b[0m                       ^\u001b[0m\n\u001b[0;31mSyntaxError\u001b[0m\u001b[0;31m:\u001b[0m unterminated string literal (detected at line 2)\n"
     ]
    }
   ],
   "source": []
  },
  {
   "cell_type": "code",
   "execution_count": 6,
   "id": "bb281f9f-c386-4c97-af14-3968d22d5fd6",
   "metadata": {},
   "outputs": [
    {
     "name": "stdout",
     "output_type": "stream",
     "text": [
      "6\n",
      "7\n",
      "8\n",
      "9\n",
      "10\n"
     ]
    }
   ],
   "source": [
    "def main():\n",
    "   for x in range(6, 11):\n",
    "       print(x)\n",
    "if __name__ == '__main__':\n",
    "   main()\n"
   ]
  },
  {
   "cell_type": "code",
   "execution_count": 4,
   "id": "2aa7fbc4",
   "metadata": {},
   "outputs": [
    {
     "ename": "FileNotFoundError",
     "evalue": "[Errno 2] No such file or directory: '/home/a3cc5235-47a9-4f2b-875e-fd9a11d718cc/Desktop/MS_AI/test-Copy1.txt'",
     "output_type": "error",
     "traceback": [
      "\u001b[0;31m---------------------------------------------------------------------------\u001b[0m",
      "\u001b[0;31mFileNotFoundError\u001b[0m                         Traceback (most recent call last)",
      "Cell \u001b[0;32mIn[4], line 6\u001b[0m\n\u001b[1;32m      4\u001b[0m      f \u001b[38;5;241m=\u001b[39m \u001b[38;5;28mopen\u001b[39m(file_to_open)\n\u001b[1;32m      5\u001b[0m      \u001b[38;5;28mprint\u001b[39m(f\u001b[38;5;241m.\u001b[39mread())\n\u001b[0;32m----> 6\u001b[0m rename_files()\n",
      "Cell \u001b[0;32mIn[4], line 4\u001b[0m, in \u001b[0;36mrename_files\u001b[0;34m()\u001b[0m\n\u001b[1;32m      2\u001b[0m \u001b[38;5;28;01mdef\u001b[39;00m \u001b[38;5;21mrename_files\u001b[39m():\n\u001b[1;32m      3\u001b[0m      file_to_open \u001b[38;5;241m=\u001b[39m os\u001b[38;5;241m.\u001b[39mpath\u001b[38;5;241m.\u001b[39mexpanduser(\u001b[38;5;124m'\u001b[39m\u001b[38;5;124m~/Desktop/MS_AI/test-Copy1.txt\u001b[39m\u001b[38;5;124m'\u001b[39m)\n\u001b[0;32m----> 4\u001b[0m      f \u001b[38;5;241m=\u001b[39m \u001b[38;5;28mopen\u001b[39m(file_to_open)\n\u001b[1;32m      5\u001b[0m      \u001b[38;5;28mprint\u001b[39m(f\u001b[38;5;241m.\u001b[39mread())\n",
      "File \u001b[0;32m/opt/conda/envs/anaconda-panel-2023.05-py310/lib/python3.11/site-packages/IPython/core/interactiveshell.py:286\u001b[0m, in \u001b[0;36m_modified_open\u001b[0;34m(file, *args, **kwargs)\u001b[0m\n\u001b[1;32m    279\u001b[0m \u001b[38;5;28;01mif\u001b[39;00m file \u001b[38;5;129;01min\u001b[39;00m {\u001b[38;5;241m0\u001b[39m, \u001b[38;5;241m1\u001b[39m, \u001b[38;5;241m2\u001b[39m}:\n\u001b[1;32m    280\u001b[0m     \u001b[38;5;28;01mraise\u001b[39;00m \u001b[38;5;167;01mValueError\u001b[39;00m(\n\u001b[1;32m    281\u001b[0m         \u001b[38;5;124mf\u001b[39m\u001b[38;5;124m\"\u001b[39m\u001b[38;5;124mIPython won\u001b[39m\u001b[38;5;124m'\u001b[39m\u001b[38;5;124mt let you open fd=\u001b[39m\u001b[38;5;132;01m{\u001b[39;00mfile\u001b[38;5;132;01m}\u001b[39;00m\u001b[38;5;124m by default \u001b[39m\u001b[38;5;124m\"\u001b[39m\n\u001b[1;32m    282\u001b[0m         \u001b[38;5;124m\"\u001b[39m\u001b[38;5;124mas it is likely to crash IPython. If you know what you are doing, \u001b[39m\u001b[38;5;124m\"\u001b[39m\n\u001b[1;32m    283\u001b[0m         \u001b[38;5;124m\"\u001b[39m\u001b[38;5;124myou can use builtins\u001b[39m\u001b[38;5;124m'\u001b[39m\u001b[38;5;124m open.\u001b[39m\u001b[38;5;124m\"\u001b[39m\n\u001b[1;32m    284\u001b[0m     )\n\u001b[0;32m--> 286\u001b[0m \u001b[38;5;28;01mreturn\u001b[39;00m io_open(file, \u001b[38;5;241m*\u001b[39margs, \u001b[38;5;241m*\u001b[39m\u001b[38;5;241m*\u001b[39mkwargs)\n",
      "\u001b[0;31mFileNotFoundError\u001b[0m: [Errno 2] No such file or directory: '/home/a3cc5235-47a9-4f2b-875e-fd9a11d718cc/Desktop/MS_AI/test-Copy1.txt'"
     ]
    }
   ],
   "source": [
    "import os \n",
    "def rename_files():\n",
    "     file_to_open = os.path.expanduser('~/Desktop/MS_AI/test-Copy1.txt')\n",
    "     f = open(file_to_open)\n",
    "     print(f.read())\n",
    "rename_files()"
   ]
  },
  {
   "cell_type": "code",
   "execution_count": 1,
   "id": "40f7eff1",
   "metadata": {},
   "outputs": [],
   "source": [
    "import logging\n",
    "def main():\n",
    "   logging.basicConfig(filename=\"app.log\", filemode=\"w\", format=\"%(name)s - %(levelname)s - %(message)s\")\n",
    "   logging.warning(\"This message gets logged as warning.\")\n",
    "    \n",
    "if __name__ == '__main__':\n",
    "   main()"
   ]
  },
  {
   "cell_type": "code",
   "execution_count": null,
   "id": "a9a97cf3",
   "metadata": {},
   "outputs": [],
   "source": [
    "import logging\n",
    "name = “Python”\n",
    "logging.error(f'{name} raised an error')\n"
   ]
  },
  {
   "cell_type": "code",
   "execution_count": null,
   "id": "29741d5f",
   "metadata": {},
   "outputs": [],
   "source": []
  }
 ],
 "metadata": {
  "kernelspec": {
   "display_name": "anaconda-panel-2023.05-py310",
   "language": "python",
   "name": "conda-env-anaconda-panel-2023.05-py310-py"
  },
  "language_info": {
   "codemirror_mode": {
    "name": "ipython",
    "version": 3
   },
   "file_extension": ".py",
   "mimetype": "text/x-python",
   "name": "python",
   "nbconvert_exporter": "python",
   "pygments_lexer": "ipython3",
   "version": "3.11.5"
  }
 },
 "nbformat": 4,
 "nbformat_minor": 5
}

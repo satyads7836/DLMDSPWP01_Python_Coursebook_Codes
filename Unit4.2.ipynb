{
 "cells": [
  {
   "cell_type": "code",
   "execution_count": 1,
   "id": "f2cc14d0-effe-4896-bbea-6390c1ba61cf",
   "metadata": {},
   "outputs": [
    {
     "name": "stdout",
     "output_type": "stream",
     "text": [
      "Channels:\n",
      " - defaults\n",
      "Platform: linux-64\n",
      "Collecting package metadata (repodata.json): done\n",
      "Solving environment: done\n",
      "\n",
      "## Package Plan ##\n",
      "\n",
      "  environment location: /opt/conda/envs/anaconda-panel-2023.05-py310\n",
      "\n",
      "  added / updated specs:\n",
      "    - pandas\n",
      "\n",
      "\n",
      "The following packages will be downloaded:\n",
      "\n",
      "    package                    |            build\n",
      "    ---------------------------|-----------------\n",
      "    pandas-2.1.4               |  py311ha02d727_0        15.0 MB\n",
      "    ------------------------------------------------------------\n",
      "                                           Total:        15.0 MB\n",
      "\n",
      "The following packages will be UPDATED:\n",
      "\n",
      "  ca-certificates                     2023.08.22-h06a4308_0 --> 2024.3.11-h06a4308_0 \n",
      "  certifi                         2023.7.22-py311h06a4308_0 --> 2024.6.2-py311h06a4308_0 \n",
      "  openssl                                 3.0.10-h7f8727e_2 --> 3.0.13-h7f8727e_2 \n",
      "  pandas                              2.0.3-py311ha02d727_0 --> 2.1.4-py311ha02d727_0 \n",
      "\n",
      "\n",
      "\n",
      "Downloading and Extracting Packages:\n",
      "                                                                                \n",
      "Preparing transaction: done\n",
      "Verifying transaction: failed\n",
      "\n",
      "EnvironmentNotWritableError: The current user does not have write permissions to the target environment.\n",
      "  environment location: /opt/conda/envs/anaconda-panel-2023.05-py310\n",
      "  uid: 1036225\n",
      "  gid: 60000\n",
      "\n",
      "\n",
      "\n",
      "Note: you may need to restart the kernel to use updated packages.\n"
     ]
    }
   ],
   "source": [
    "conda install pandas"
   ]
  },
  {
   "cell_type": "code",
   "execution_count": 1,
   "id": "a431ebe6-6c67-4910-97a0-2d667bd72fdd",
   "metadata": {},
   "outputs": [],
   "source": [
    "import numpy as np \n",
    "import pandas as pd"
   ]
  },
  {
   "cell_type": "code",
   "execution_count": 3,
   "id": "e3aac2e8-5741-4c1a-a3f1-759feffb9d7c",
   "metadata": {},
   "outputs": [
    {
     "name": "stdout",
     "output_type": "stream",
     "text": [
      "pandas version: 2.0.3\n"
     ]
    }
   ],
   "source": [
    "print(\"pandas version: {}\".format(pd.__version__))"
   ]
  },
  {
   "cell_type": "markdown",
   "id": "3b814c8c-6513-49d2-b2a8-b487c648f19e",
   "metadata": {},
   "source": [
    "randn(): return a sample (or samples)\n",
    "         from the standard normal distribution"
   ]
  },
  {
   "cell_type": "code",
   "execution_count": 7,
   "id": "fae910d8-73e9-416b-8027-700abdcd0179",
   "metadata": {},
   "outputs": [],
   "source": [
    "s_data = pd.Series(np.random.randn(5))"
   ]
  },
  {
   "cell_type": "code",
   "execution_count": 9,
   "id": "4db0b432-fa7d-411a-ac66-24b1c5372941",
   "metadata": {},
   "outputs": [
    {
     "name": "stdout",
     "output_type": "stream",
     "text": [
      "0    0.338184\n",
      "1   -0.238439\n",
      "2   -0.786325\n",
      "3   -0.082407\n",
      "4    1.219971\n",
      "dtype: float64\n"
     ]
    }
   ],
   "source": [
    "print(s_data)"
   ]
  },
  {
   "cell_type": "code",
   "execution_count": 11,
   "id": "946f1a61-d0a1-4cf2-83c0-bebed3ec3536",
   "metadata": {},
   "outputs": [],
   "source": [
    "dictionary = {\"col 1\":[1., 2., 3., 4., 5.], \"col 2\":[6, 7, 8, 9, 10],\"col 3\":[\"uno\", \"dos\", \"tres\", \"cuatro\", \"cinco\"]}"
   ]
  },
  {
   "cell_type": "code",
   "execution_count": 13,
   "id": "7198bbf0-79b0-4460-ac92-5320de6a591f",
   "metadata": {},
   "outputs": [
    {
     "name": "stdout",
     "output_type": "stream",
     "text": [
      "   col 1  col 2   col 3\n",
      "0    1.0      6     uno\n",
      "1    2.0      7     dos\n",
      "2    3.0      8    tres\n",
      "3    4.0      9  cuatro\n",
      "4    5.0     10   cinco\n"
     ]
    }
   ],
   "source": [
    "df_data = pd.DataFrame(data=dictionary)\n",
    "print(df_data)"
   ]
  },
  {
   "cell_type": "code",
   "execution_count": 15,
   "id": "cc30d3c6-fae7-4e2f-a38c-b012ab540cb0",
   "metadata": {},
   "outputs": [
    {
     "name": "stdout",
     "output_type": "stream",
     "text": [
      "      col 1  col 2   col 3\n",
      "row1    1.0      6     uno\n",
      "row2    2.0      7     dos\n",
      "row3    3.0      8    tres\n",
      "row4    4.0      9  cuatro\n",
      "row5    5.0     10   cinco\n"
     ]
    }
   ],
   "source": [
    "df_data = pd.DataFrame(data=dictionary, index=[\"row1\", \"row2\", \"row3\",\"row4\", \"row5\"])\n",
    "print(df_data)"
   ]
  },
  {
   "cell_type": "markdown",
   "id": "201ac774-a7b7-4b65-98fb-863a85a4c88a",
   "metadata": {},
   "source": [
    "df_input_file = pd.read_csv(filepath_or_buffer=\"satya_file_dummy.csv\")\n",
    "print(df_input_file)"
   ]
  },
  {
   "cell_type": "code",
   "execution_count": 20,
   "id": "f7c633ff-2510-4074-bedf-189c655a17fc",
   "metadata": {},
   "outputs": [
    {
     "name": "stdout",
     "output_type": "stream",
     "text": [
      "    col1  col2   col3   col4\n",
      "0    NaN   2.1   bar    True\n",
      "1    NaN   NaN    NaN  False\n",
      "2    3.0   2.3   CLUB   True\n",
      "3    5.0   2.4   bar     NaN\n",
      "4    NaN   2.5   bar   False\n",
      "5    6.0   NaN   CLUB   True\n",
      "6    2.0   2.5  house    NaN\n",
      "7    3.0   2.3   club   True\n",
      "8    NaN   NaN    NaN    NaN\n",
      "9    NaN   NaN    NaN    NaN\n",
      "10   NaN   NaN    NaN    NaN\n",
      "11   NaN   NaN    NaN    NaN\n",
      "12   NaN   NaN    NaN    NaN\n",
      "13   NaN   NaN    NaN    NaN\n",
      "14   NaN   NaN    NaN    NaN\n",
      "15   NaN   NaN    NaN    NaN\n",
      "16   NaN   NaN    NaN    NaN\n",
      "17   NaN   NaN    NaN    NaN\n",
      "18   NaN   NaN    NaN    NaN\n"
     ]
    }
   ],
   "source": [
    "df_input_file = pd.read_csv(filepath_or_buffer=\"satya_file_dummy.csv\") \n",
    "print(df_input_file)"
   ]
  },
  {
   "cell_type": "code",
   "execution_count": 15,
   "id": "a17de103-d8d1-4825-82f0-532569ac0aa0",
   "metadata": {},
   "outputs": [
    {
     "ename": "ModuleNotFoundError",
     "evalue": "No module named 'pkgconfig'",
     "output_type": "error",
     "traceback": [
      "\u001b[0;31m---------------------------------------------------------------------------\u001b[0m",
      "\u001b[0;31mModuleNotFoundError\u001b[0m                       Traceback (most recent call last)",
      "Cell \u001b[0;32mIn[15], line 6\u001b[0m\n\u001b[1;32m      4\u001b[0m \u001b[38;5;28;01mimport\u001b[39;00m \u001b[38;5;21;01mpandas\u001b[39;00m \u001b[38;5;28;01mas\u001b[39;00m \u001b[38;5;21;01mpd\u001b[39;00m \n\u001b[1;32m      5\u001b[0m \u001b[38;5;28;01mimport\u001b[39;00m \u001b[38;5;21;01mnumpy\u001b[39;00m \u001b[38;5;28;01mas\u001b[39;00m \u001b[38;5;21;01mnp\u001b[39;00m \n\u001b[0;32m----> 6\u001b[0m \u001b[38;5;28;01mimport\u001b[39;00m \u001b[38;5;21;01mpkgconfig\u001b[39;00m\n",
      "\u001b[0;31mModuleNotFoundError\u001b[0m: No module named 'pkgconfig'"
     ]
    }
   ],
   "source": [
    "import os\n",
    "import sys\n",
    "import datetime\n",
    "import pandas as pd \n",
    "import numpy as np \n",
    "import pkgconfig"
   ]
  },
  {
   "cell_type": "code",
   "execution_count": 24,
   "id": "c6f6e18d-ce6c-4bb7-a55e-c015af004da6",
   "metadata": {},
   "outputs": [
    {
     "name": "stdout",
     "output_type": "stream",
     "text": [
      "Channels:\n",
      " - defaults\n",
      "Platform: linux-64\n",
      "Collecting package metadata (repodata.json): done\n",
      "Solving environment: failed\n",
      "\n",
      "PackagesNotFoundError: The following packages are not available from current channels:\n",
      "\n",
      "  - config\n",
      "\n",
      "Current channels:\n",
      "\n",
      "  - defaults\n",
      "\n",
      "To search for alternate channels that may provide the conda package you're\n",
      "looking for, navigate to\n",
      "\n",
      "    https://anaconda.org\n",
      "\n",
      "and use the search bar at the top of the page.\n",
      "\n",
      "\n",
      "\n",
      "Note: you may need to restart the kernel to use updated packages.\n"
     ]
    }
   ],
   "source": [
    "conda install config"
   ]
  },
  {
   "cell_type": "code",
   "execution_count": 3,
   "id": "0f54ab9b-ec27-4718-b371-e845e617cada",
   "metadata": {},
   "outputs": [],
   "source": [
    "import os\n",
    "import sys\n",
    "import datetime\n",
    "import pandas as pd \n",
    "import numpy as np \n"
   ]
  },
  {
   "cell_type": "code",
   "execution_count": 5,
   "id": "1eae6be0-bbb9-4dff-b15c-03be4b5da5fe",
   "metadata": {},
   "outputs": [
    {
     "name": "stdout",
     "output_type": "stream",
     "text": [
      "using pandas library for data manipulation and cleansing:\n",
      "\n"
     ]
    }
   ],
   "source": [
    "print(\"using pandas library for data manipulation and cleansing:\")\n",
    "print()"
   ]
  },
  {
   "cell_type": "code",
   "execution_count": 7,
   "id": "a0457096-06be-4f0c-8016-f7991f6f576b",
   "metadata": {},
   "outputs": [
    {
     "name": "stdout",
     "output_type": "stream",
     "text": [
      "project directory path:\n",
      "/opt/conda/envs/anaconda-panel-2023.05-py310/lib/python3.11/site-packages\n",
      "\n"
     ]
    }
   ],
   "source": [
    "project_directory_path = os.path.dirname(sys.argv[0])\n",
    "print(\"project directory path:\")\n",
    "print(project_directory_path)\n",
    "print()"
   ]
  },
  {
   "cell_type": "code",
   "execution_count": 23,
   "id": "0224c5e9-264b-4ce5-b521-af6e04bd3ea9",
   "metadata": {},
   "outputs": [
    {
     "ename": "TypeError",
     "evalue": "'_Environ' object is not callable",
     "output_type": "error",
     "traceback": [
      "\u001b[0;31m---------------------------------------------------------------------------\u001b[0m",
      "\u001b[0;31mTypeError\u001b[0m                                 Traceback (most recent call last)",
      "Cell \u001b[0;32mIn[23], line 1\u001b[0m\n\u001b[0;32m----> 1\u001b[0m input_file_path \u001b[38;5;241m=\u001b[39m os\u001b[38;5;241m.\u001b[39mpath\u001b[38;5;241m.\u001b[39mjoin(project_directory_path, os\u001b[38;5;241m.\u001b[39menviron(\u001b[38;5;124m'\u001b[39m\u001b[38;5;124mINPUT_FILE_PATH\u001b[39m\u001b[38;5;124m'\u001b[39m))\n\u001b[1;32m      2\u001b[0m \u001b[38;5;28mprint\u001b[39m(\u001b[38;5;124m\"\u001b[39m\u001b[38;5;124minput file path:\u001b[39m\u001b[38;5;124m\"\u001b[39m)\n\u001b[1;32m      3\u001b[0m \u001b[38;5;28mprint\u001b[39m(input_file_path)\n",
      "\u001b[0;31mTypeError\u001b[0m: '_Environ' object is not callable"
     ]
    }
   ],
   "source": [
    "input_file_path = os.path.join(project_directory_path, os.environ('INPUT_FILE_PATH'))\n",
    "print(\"input file path:\")\n",
    "print(input_file_path)\n",
    "print()"
   ]
  },
  {
   "cell_type": "code",
   "execution_count": 1,
   "id": "bb6863ae-27df-48d5-b3b6-4d8df463eac4",
   "metadata": {},
   "outputs": [
    {
     "name": "stdout",
     "output_type": "stream",
     "text": [
      "\n",
      "CondaError: Run 'conda init' before 'conda activate'\n",
      "\n",
      "\n",
      "Note: you may need to restart the kernel to use updated packages.\n"
     ]
    }
   ],
   "source": [
    "conda activate myenv"
   ]
  },
  {
   "cell_type": "code",
   "execution_count": 5,
   "id": "abf5d8c4-e65c-436c-af89-43dd96452d8f",
   "metadata": {},
   "outputs": [
    {
     "name": "stdout",
     "output_type": "stream",
     "text": [
      "no change     /opt/conda/condabin/conda\n",
      "no change     /opt/conda/bin/conda\n",
      "no change     /opt/conda/bin/conda-env\n",
      "no change     /opt/conda/bin/activate\n",
      "no change     /opt/conda/bin/deactivate\n",
      "no change     /opt/conda/etc/profile.d/conda.sh\n",
      "no change     /opt/conda/etc/fish/conf.d/conda.fish\n",
      "no change     /opt/conda/shell/condabin/Conda.psm1\n",
      "no change     /opt/conda/shell/condabin/conda-hook.ps1\n",
      "no change     /opt/conda/lib/python3.9/site-packages/xontrib/conda.xsh\n",
      "no change     /opt/conda/etc/profile.d/conda.csh\n",
      "no change     /home/a3cc5235-47a9-4f2b-875e-fd9a11d718cc/.bashrc\n",
      "No action taken.\n",
      "\n",
      "Note: you may need to restart the kernel to use updated packages.\n"
     ]
    }
   ],
   "source": [
    "conda init\n"
   ]
  },
  {
   "cell_type": "code",
   "execution_count": 7,
   "id": "0bc792c5-6204-47a6-83d7-3c417943533c",
   "metadata": {},
   "outputs": [
    {
     "name": "stdout",
     "output_type": "stream",
     "text": [
      "\n",
      "CondaError: Run 'conda init' before 'conda activate'\n",
      "\n",
      "\n",
      "Note: you may need to restart the kernel to use updated packages.\n"
     ]
    }
   ],
   "source": [
    "conda activate myenv"
   ]
  },
  {
   "cell_type": "code",
   "execution_count": 1,
   "id": "69324c45-7534-452f-a384-7e515aaef371",
   "metadata": {},
   "outputs": [
    {
     "name": "stdout",
     "output_type": "stream",
     "text": [
      "\n",
      "CondaError: Run 'conda init' before 'conda activate'\n",
      "\n",
      "\n",
      "Note: you may need to restart the kernel to use updated packages.\n"
     ]
    }
   ],
   "source": [
    "conda activate myenv"
   ]
  },
  {
   "cell_type": "code",
   "execution_count": 3,
   "id": "75968a05-771e-4847-a6ce-b25e03adff9a",
   "metadata": {},
   "outputs": [
    {
     "ename": "NameError",
     "evalue": "name 'opt' is not defined",
     "output_type": "error",
     "traceback": [
      "\u001b[0;31m---------------------------------------------------------------------------\u001b[0m",
      "\u001b[0;31mNameError\u001b[0m                                 Traceback (most recent call last)",
      "Cell \u001b[0;32mIn[3], line 1\u001b[0m\n\u001b[0;32m----> 1\u001b[0m opt\u001b[38;5;241m/\u001b[39mconda\u001b[38;5;241m/\u001b[39m\u001b[38;5;28mbin\u001b[39m\u001b[38;5;241m/\u001b[39mactivate()\n",
      "\u001b[0;31mNameError\u001b[0m: name 'opt' is not defined"
     ]
    }
   ],
   "source": [
    "/opt/conda/bin/activate"
   ]
  },
  {
   "cell_type": "code",
   "execution_count": null,
   "id": "64f8cc15-7dbb-4ee3-b625-9400b934cd6f",
   "metadata": {},
   "outputs": [],
   "source": []
  }
 ],
 "metadata": {
  "kernelspec": {
   "display_name": "anaconda-panel-2023.05-py310",
   "language": "python",
   "name": "conda-env-anaconda-panel-2023.05-py310-py"
  },
  "language_info": {
   "codemirror_mode": {
    "name": "ipython",
    "version": 3
   },
   "file_extension": ".py",
   "mimetype": "text/x-python",
   "name": "python",
   "nbconvert_exporter": "python",
   "pygments_lexer": "ipython3",
   "version": "3.11.5"
  }
 },
 "nbformat": 4,
 "nbformat_minor": 5
}

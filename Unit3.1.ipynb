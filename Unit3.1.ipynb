{
 "cells": [
  {
   "cell_type": "code",
   "execution_count": 5,
   "id": "a375e911-fd11-4b1c-8a07-a752e5c9b4ca",
   "metadata": {},
   "outputs": [
    {
     "ename": "SyntaxError",
     "evalue": "unmatched ')' (4251862180.py, line 2)",
     "output_type": "error",
     "traceback": [
      "\u001b[0;36m  Cell \u001b[0;32mIn[5], line 2\u001b[0;36m\u001b[0m\n\u001b[0;31m    print(1/1))\u001b[0m\n\u001b[0m              ^\u001b[0m\n\u001b[0;31mSyntaxError\u001b[0m\u001b[0;31m:\u001b[0m unmatched ')'\n"
     ]
    }
   ],
   "source": [
    "def main():\n",
    "  print(1/1))\n",
    "if __name__ == '__main__':\n",
    "   main()\n"
   ]
  },
  {
   "cell_type": "code",
   "execution_count": 7,
   "id": "380ee562-4c0f-4e8f-845f-dcd3d9e54a13",
   "metadata": {},
   "outputs": [
    {
     "name": "stdout",
     "output_type": "stream",
     "text": [
      "1.0\n"
     ]
    }
   ],
   "source": [
    "def main():\n",
    "  print(1/1)\n",
    "if __name__ == '__main__':\n",
    "   main()\n"
   ]
  },
  {
   "cell_type": "code",
   "execution_count": 9,
   "id": "591580ce-15a7-4fc9-92ae-e882aee1450d",
   "metadata": {},
   "outputs": [
    {
     "ename": "ZeroDivisionError",
     "evalue": "division by zero",
     "output_type": "error",
     "traceback": [
      "\u001b[0;31m---------------------------------------------------------------------------\u001b[0m",
      "\u001b[0;31mZeroDivisionError\u001b[0m                         Traceback (most recent call last)",
      "Cell \u001b[0;32mIn[9], line 4\u001b[0m\n\u001b[1;32m      2\u001b[0m   \u001b[38;5;28mprint\u001b[39m(\u001b[38;5;241m1\u001b[39m\u001b[38;5;241m/\u001b[39m\u001b[38;5;241m0\u001b[39m)\n\u001b[1;32m      3\u001b[0m \u001b[38;5;28;01mif\u001b[39;00m \u001b[38;5;18m__name__\u001b[39m \u001b[38;5;241m==\u001b[39m \u001b[38;5;124m'\u001b[39m\u001b[38;5;124m__main__\u001b[39m\u001b[38;5;124m'\u001b[39m:\n\u001b[0;32m----> 4\u001b[0m    main()\n",
      "Cell \u001b[0;32mIn[9], line 2\u001b[0m, in \u001b[0;36mmain\u001b[0;34m()\u001b[0m\n\u001b[1;32m      1\u001b[0m \u001b[38;5;28;01mdef\u001b[39;00m \u001b[38;5;21mmain\u001b[39m():\n\u001b[0;32m----> 2\u001b[0m   \u001b[38;5;28mprint\u001b[39m(\u001b[38;5;241m1\u001b[39m\u001b[38;5;241m/\u001b[39m\u001b[38;5;241m0\u001b[39m)\n",
      "\u001b[0;31mZeroDivisionError\u001b[0m: division by zero"
     ]
    }
   ],
   "source": [
    "def main():\n",
    "  print(1/0)\n",
    "if __name__ == '__main__':\n",
    "   main()\n"
   ]
  },
  {
   "cell_type": "code",
   "execution_count": 11,
   "id": "3b5d2fd7-7672-411a-8730-34bc2bfb4180",
   "metadata": {},
   "outputs": [
    {
     "name": "stdout",
     "output_type": "stream",
     "text": [
      "a is equal Java\n"
     ]
    }
   ],
   "source": [
    "def main():\n",
    "   a = \"Python\"\n",
    "   if a == \"Python\":\n",
    "       print(\"a is equal Java\")\n",
    "if __name__ == '__main__':\n",
    "   main()"
   ]
  },
  {
   "cell_type": "code",
   "execution_count": 13,
   "id": "94e642b6-fc72-4924-85c9-7e916164ee1a",
   "metadata": {},
   "outputs": [
    {
     "ename": "NameError",
     "evalue": "name 'sys' is not defined",
     "output_type": "error",
     "traceback": [
      "\u001b[0;31m---------------------------------------------------------------------------\u001b[0m",
      "\u001b[0;31mNameError\u001b[0m                                 Traceback (most recent call last)",
      "Cell \u001b[0;32mIn[13], line 1\u001b[0m\n\u001b[0;32m----> 1\u001b[0m exception_type, exception_value, exception_traceback \u001b[38;5;241m=\u001b[39m sys\u001b[38;5;241m.\u001b[39mexc_info()\n",
      "\u001b[0;31mNameError\u001b[0m: name 'sys' is not defined"
     ]
    }
   ],
   "source": [
    "exception_type, exception_value, exception_traceback = sys.exc_info()"
   ]
  },
  {
   "cell_type": "code",
   "execution_count": 17,
   "id": "adf8428c-236f-4c44-be1a-43fb56c7f1a4",
   "metadata": {},
   "outputs": [
    {
     "ename": "ZeroDivisionError",
     "evalue": "division by zero",
     "output_type": "error",
     "traceback": [
      "\u001b[0;31m---------------------------------------------------------------------------\u001b[0m",
      "\u001b[0;31mZeroDivisionError\u001b[0m                         Traceback (most recent call last)",
      "Cell \u001b[0;32mIn[17], line 7\u001b[0m\n\u001b[1;32m      5\u001b[0m    \u001b[38;5;28mprint\u001b[39m(division_by_zero)\n\u001b[1;32m      6\u001b[0m \u001b[38;5;28;01mif\u001b[39;00m \u001b[38;5;18m__name__\u001b[39m \u001b[38;5;241m==\u001b[39m \u001b[38;5;124m'\u001b[39m\u001b[38;5;124m__main__\u001b[39m\u001b[38;5;124m'\u001b[39m:\n\u001b[0;32m----> 7\u001b[0m    main()\n",
      "Cell \u001b[0;32mIn[17], line 4\u001b[0m, in \u001b[0;36mmain\u001b[0;34m()\u001b[0m\n\u001b[1;32m      3\u001b[0m \u001b[38;5;28;01mdef\u001b[39;00m \u001b[38;5;21mmain\u001b[39m():\n\u001b[0;32m----> 4\u001b[0m    division_by_zero \u001b[38;5;241m=\u001b[39m \u001b[38;5;241m1\u001b[39m\u001b[38;5;241m/\u001b[39m\u001b[38;5;241m0\u001b[39m\n\u001b[1;32m      5\u001b[0m    \u001b[38;5;28mprint\u001b[39m(division_by_zero)\n",
      "\u001b[0;31mZeroDivisionError\u001b[0m: division by zero"
     ]
    }
   ],
   "source": [
    "import sys \n",
    "import traceback\n",
    "def main():\n",
    "   division_by_zero = 1/0\n",
    "   print(division_by_zero)\n",
    "if __name__ == '__main__':\n",
    "   main()"
   ]
  },
  {
   "cell_type": "code",
   "execution_count": 23,
   "id": "93d83145-a900-434f-8a86-9e76246d6da6",
   "metadata": {},
   "outputs": [
    {
     "name": "stdout",
     "output_type": "stream",
     "text": [
      "Exception Type: <class 'ZeroDivisionError'>\n",
      "Exception Value: division by zero\n",
      "File Name: /tmp/ipykernel_3684/2207003608.py\n",
      "Line Number: 3\n",
      "Procedure Name: division_by_zero\n",
      "Line Code:division_by_zero = 1/0\n"
     ]
    }
   ],
   "source": [
    "def division_by_zero():\n",
    "    try:\n",
    "        division_by_zero = 1/0\n",
    "#Try block\n",
    "#The try and except block in Python is used to catch and handle exceptions.\n",
    "    except:\n",
    "        exception_type, exception_value, exception_traceback = sys.exc_info()\n",
    "        print(\"Exception Type: {}\\nException Value: {}\".format(exception_type,exception_value))\n",
    "        file_name, line_number, procedure_name, line_code = traceback.extract_tb(exception_traceback)[-1]\n",
    "        print(\"File Name: {}\\nLine Number: {}\\nProcedure Name: {}\\nLine Code:{}\".format(file_name, line_number, procedure_name, line_code))\n",
    "    finally:\n",
    "       pass\n",
    "def main():\n",
    "  division_by_zero()\n",
    "if __name__ == '__main__':\n",
    "    main()"
   ]
  },
  {
   "cell_type": "code",
   "execution_count": 25,
   "id": "0ba7230e-2e1a-4c95-8c7f-d6c9872499a6",
   "metadata": {},
   "outputs": [
    {
     "ename": "NameError",
     "evalue": "name 'get_exception_info' is not defined",
     "output_type": "error",
     "traceback": [
      "\u001b[0;31m---------------------------------------------------------------------------\u001b[0m",
      "\u001b[0;31mNameError\u001b[0m                                 Traceback (most recent call last)",
      "Cell \u001b[0;32mIn[25], line 1\u001b[0m\n\u001b[0;32m----> 1\u001b[0m get_exception_info()\n",
      "\u001b[0;31mNameError\u001b[0m: name 'get_exception_info' is not defined"
     ]
    }
   ],
   "source": [
    "get_exception_info() "
   ]
  },
  {
   "cell_type": "code",
   "execution_count": 31,
   "id": "7a3d01a0-4aea-49a7-8949-f327bdbaa202",
   "metadata": {},
   "outputs": [
    {
     "ename": "SyntaxError",
     "evalue": "expected 'except' or 'finally' block (276603365.py, line 8)",
     "output_type": "error",
     "traceback": [
      "\u001b[0;36m  Cell \u001b[0;32mIn[31], line 8\u001b[0;36m\u001b[0m\n\u001b[0;31m    exception_info = ''.join('[Time Stamp]: '+ str(time.strftime('%d-%m-%Y %I:%M:%S %p'))+ '' + '[File Name]: ' + str(file_name) + ' '+ '[Procedure Name]: ' + str(procedure_name) + ' '+ '[Error Message]: ' + str(exception_value) + ' '+ '[Error Type]: ' + str(exception_type) + ' ' + '[Line Number]: ' + str(line_number) + ' '+ '[Line Code]: ' + str(line_code))\u001b[0m\n\u001b[0m                                                                                                                                                                                                                                                                                                                                                                        ^\u001b[0m\n\u001b[0;31mSyntaxError\u001b[0m\u001b[0;31m:\u001b[0m expected 'except' or 'finally' block\n"
     ]
    }
   ],
   "source": [
    "import sys \n",
    "import traceback \n",
    "import time\n",
    "def get_exception_info():\n",
    "   try:\n",
    "       exception_type, exception_value, exception_traceback = sys.exc_info()\n",
    "       file_name, line_number, procedure_name, line_code = traceback.extract_tb(exception_traceback)[-1]\n",
    "exception_info = ''.join('[Time Stamp]: '+ str(time.strftime('%d-%m-%Y %I:%M:%S %p'))+ '' + '[File Name]: ' + str(file_name) + ' '+ '[Procedure Name]: ' + str(procedure_name) + ' '+ '[Error Message]: ' + str(exception_value) + ' '+ '[Error Type]: ' + str(exception_type) + ' ' + '[Line Number]: ' + str(line_number) + ' '+ '[Line Code]: ' + str(line_code))\n",
    "   except: \n",
    "      pass\n",
    "   return exception_info\n",
    "def division_by_zero():\n",
    "   try:\n",
    "       division = 1/0\n",
    "   except:\n",
    "       exception_info = get_exception_info()\n",
    "       print(exception_info)\n",
    "   finally:\n",
    "       pass\n",
    "def main():\n",
    "   division_by_zero()\n",
    "if __name__ == '__main__':\n",
    "   main()\n"
   ]
  },
  {
   "cell_type": "markdown",
   "id": "a3ea4ebc-c8f3-4704-895e-ab98d6deadbd",
   "metadata": {},
   "source": [
    "python -m venv E:\\my_env"
   ]
  },
  {
   "cell_type": "code",
   "execution_count": null,
   "id": "27015173-2423-4176-b381-7a054a44aac5",
   "metadata": {},
   "outputs": [],
   "source": []
  }
 ],
 "metadata": {
  "kernelspec": {
   "display_name": "anaconda-panel-2023.05-py310",
   "language": "python",
   "name": "conda-env-anaconda-panel-2023.05-py310-py"
  },
  "language_info": {
   "codemirror_mode": {
    "name": "ipython",
    "version": 3
   },
   "file_extension": ".py",
   "mimetype": "text/x-python",
   "name": "python",
   "nbconvert_exporter": "python",
   "pygments_lexer": "ipython3",
   "version": "3.11.5"
  }
 },
 "nbformat": 4,
 "nbformat_minor": 5
}

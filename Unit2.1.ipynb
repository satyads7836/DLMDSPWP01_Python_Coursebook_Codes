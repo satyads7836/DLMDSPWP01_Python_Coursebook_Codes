{
 "cells": [
  {
   "cell_type": "code",
   "execution_count": 5,
   "id": "c6d6d764-10b1-4c9c-bb7d-b984c7e1ad55",
   "metadata": {},
   "outputs": [
    {
     "name": "stdout",
     "output_type": "stream",
     "text": [
      "After local scope test: testing the spam\n",
      "After nonlocal scope test: nonlocal spam defined\n",
      "After global scope test: nonlocal spam defined\n",
      "In global scope: global spam defined\n"
     ]
    }
   ],
   "source": [
    "def scope_testing():\n",
    "   def local_scope():\n",
    "       spam = \"local spam defined\"\n",
    "   def nonlocal_scope():\n",
    "       nonlocal spam\n",
    "       spam = \"nonlocal spam defined\"\n",
    "   def global_scope():\n",
    "       global spam\n",
    "       spam = \"global spam defined\"\n",
    "   spam = \"testing the spam\"\n",
    "   local_scope()\n",
    "   print(\"After local scope test:\", spam)\n",
    "   nonlocal_scope()\n",
    "   print(\"After nonlocal scope test:\", spam)\n",
    "   global_scope()\n",
    "   print(\"After global scope test:\", spam)\n",
    "def main():\n",
    "   scope_testing()\n",
    "   print(\"In global scope:\", spam)\n",
    "if __name__ == '__main__':\n",
    "   main()\n"
   ]
  },
  {
   "cell_type": "code",
   "execution_count": 7,
   "id": "8a771b80-07df-48ea-8897-7306d10ad0af",
   "metadata": {},
   "outputs": [],
   "source": [
    "class TextBook():\n",
    "   def print_book_title(self, book_title):\n",
    "       print(book_title)\n"
   ]
  },
  {
   "cell_type": "code",
   "execution_count": 9,
   "id": "ded5c507-1977-4d09-b2e6-313327afcd7c",
   "metadata": {},
   "outputs": [
    {
     "name": "stdout",
     "output_type": "stream",
     "text": [
      "Programming with Python\n"
     ]
    }
   ],
   "source": [
    "def main():\n",
    "  #  object text_book is the instant of the class TextBook():\n",
    "  text_book = TextBook()\n",
    "  book_title = \"Programming with Python\"\n",
    "  #  calling print_book_title() method\n",
    "  text_book.print_book_title(book_title)\n",
    "if __name__ == '__main__':\n",
    "  main()"
   ]
  },
  {
   "cell_type": "code",
   "execution_count": null,
   "id": "717bc4b9-49e8-4a68-9a42-26011af682d6",
   "metadata": {},
   "outputs": [],
   "source": [
    "def __init__(self):\n",
    "   '''\n",
    "   class constructor\n",
    "   '''"
   ]
  },
  {
   "cell_type": "code",
   "execution_count": 25,
   "id": "372ab3f0-ee75-40af-97d3-56c2e62dbb56",
   "metadata": {},
   "outputs": [
    {
     "ename": "IndentationError",
     "evalue": "expected an indented block after function definition on line 1 (333656783.py, line 2)",
     "output_type": "error",
     "traceback": [
      "\u001b[0;36m  Cell \u001b[0;32mIn[25], line 2\u001b[0;36m\u001b[0m\n\u001b[0;31m    self.pages_number = pages_number\u001b[0m\n\u001b[0m    ^\u001b[0m\n\u001b[0;31mIndentationError\u001b[0m\u001b[0;31m:\u001b[0m expected an indented block after function definition on line 1\n"
     ]
    }
   ],
   "source": [
    "def __init__(self, pages_number):\n",
    "self.pages_number = pages_number"
   ]
  },
  {
   "cell_type": "code",
   "execution_count": 35,
   "id": "bc13c81f-996e-431b-9b31-372aec9a1581",
   "metadata": {},
   "outputs": [
    {
     "ename": "IndentationError",
     "evalue": "unexpected indent (3919170611.py, line 14)",
     "output_type": "error",
     "traceback": [
      "\u001b[0;36m  Cell \u001b[0;32mIn[35], line 14\u001b[0;36m\u001b[0m\n\u001b[0;31m    text_book.print_book_title(book_title)\u001b[0m\n\u001b[0m    ^\u001b[0m\n\u001b[0;31mIndentationError\u001b[0m\u001b[0;31m:\u001b[0m unexpected indent\n"
     ]
    }
   ],
   "source": [
    "class TextBook():\n",
    "  def __init__(self, pages_number):\n",
    "    self.pages_number = pages_number\n",
    "  def print_book_title(self, book_title):\n",
    "    print(book_title)\n",
    "  def print_book_pages_number(self):\n",
    "    print(\"The number of pages is: {}\".format(self.pages_number))\n",
    "  def main():\n",
    "    pages_number = 300\n",
    "  #    object text_book is the instant of the class TextBook():\n",
    "  text_book = TextBook(pages_number)\n",
    "  book_title = \"Programming with Python\"\n",
    "  #    calling print_book_title() method\n",
    "  text_book.print_book_title(book_title)\n",
    "  #    calling print_book_pages_number method\n",
    "Text_book.print_book_pages_number()\n",
    "if __name__ == '__main__':\n",
    "    main()"
   ]
  },
  {
   "cell_type": "code",
   "execution_count": 37,
   "id": "aefd1dad-b5bd-4073-8edd-d6e7f34df9eb",
   "metadata": {},
   "outputs": [
    {
     "ename": "NameError",
     "evalue": "name 'pages_number' is not defined",
     "output_type": "error",
     "traceback": [
      "\u001b[0;31m---------------------------------------------------------------------------\u001b[0m",
      "\u001b[0;31mNameError\u001b[0m                                 Traceback (most recent call last)",
      "Cell \u001b[0;32mIn[37], line 1\u001b[0m\n\u001b[0;32m----> 1\u001b[0m \u001b[38;5;28;01mclass\u001b[39;00m \u001b[38;5;21;01mTextBook\u001b[39;00m():\n\u001b[1;32m      2\u001b[0m   \u001b[38;5;28;01mdef\u001b[39;00m \u001b[38;5;21m__init__\u001b[39m(\u001b[38;5;28mself\u001b[39m, pages_number):\n\u001b[1;32m      3\u001b[0m     \u001b[38;5;28mself\u001b[39m\u001b[38;5;241m.\u001b[39mpages_number \u001b[38;5;241m=\u001b[39m pages_number\n",
      "Cell \u001b[0;32mIn[37], line 11\u001b[0m, in \u001b[0;36mTextBook\u001b[0;34m()\u001b[0m\n\u001b[1;32m      9\u001b[0m   pages_number \u001b[38;5;241m=\u001b[39m \u001b[38;5;241m300\u001b[39m\n\u001b[1;32m     10\u001b[0m \u001b[38;5;66;03m#    object text_book is the instant of the class TextBook():\u001b[39;00m\n\u001b[0;32m---> 11\u001b[0m text_book \u001b[38;5;241m=\u001b[39m TextBook(\u001b[43mpages_number\u001b[49m)\n\u001b[1;32m     12\u001b[0m book_title \u001b[38;5;241m=\u001b[39m \u001b[38;5;124m\"\u001b[39m\u001b[38;5;124mProgramming with Python\u001b[39m\u001b[38;5;124m\"\u001b[39m\n\u001b[1;32m     13\u001b[0m \u001b[38;5;66;03m#    calling print_book_title() method\u001b[39;00m\n",
      "\u001b[0;31mNameError\u001b[0m: name 'pages_number' is not defined"
     ]
    }
   ],
   "source": [
    "class TextBook():\n",
    "  def __init__(self, pages_number):\n",
    "    self.pages_number = pages_number\n",
    "  def print_book_title(self, book_title):\n",
    "    print(book_title)\n",
    "  def print_book_pages_number(self):\n",
    "    print(\"The number of pages is: {}\".format(self.pages_number))\n",
    "  def main():\n",
    "    pages_number = 300\n",
    "  #    object text_book is the instant of the class TextBook():\n",
    "  text_book = TextBook(pages_number)\n",
    "  book_title = \"Programming with Python\"\n",
    "  #    calling print_book_title() method\n",
    "  text_book.print_book_title(book_title)\n",
    "  #    calling print_book_pages_number method\n",
    "Text_book.print_book_pages_number()\n",
    "if __name__ == '__main__':\n",
    "    main()"
   ]
  },
  {
   "cell_type": "code",
   "execution_count": 39,
   "id": "55827bb2-3338-44d8-aa1c-5f1e8fb74ceb",
   "metadata": {},
   "outputs": [
    {
     "name": "stdout",
     "output_type": "stream",
     "text": [
      "JavaScript\n",
      "Python\n",
      "R\n",
      "Ruby\n",
      "PHP\n",
      "Java\n",
      "C#\n",
      "C\n",
      "C++\n",
      "Julia\n",
      "Go\n",
      "Perl\n"
     ]
    }
   ],
   "source": [
    "def main():\n",
    "   programming_language = [\"JavaScript\", \"Python\", \"R\", \"Ruby\",\n",
    "\"PHP\", \"Java\", \"C#\", \"C\", \"C++\", \"Julia\", \"Go\", \"Perl\"]\n",
    "   for item in programming_language:\n",
    "       print(item)\n",
    "if __name__ == '__main__':\n",
    "   main()"
   ]
  },
  {
   "cell_type": "code",
   "execution_count": 41,
   "id": "4521e7e3-5e0e-471b-84b6-57372ec6cb4a",
   "metadata": {},
   "outputs": [
    {
     "name": "stdout",
     "output_type": "stream",
     "text": [
      "1\n",
      "2\n",
      "3\n",
      "4\n",
      "5\n"
     ]
    },
    {
     "ename": "StopIteration",
     "evalue": "",
     "output_type": "error",
     "traceback": [
      "\u001b[0;31m---------------------------------------------------------------------------\u001b[0m",
      "\u001b[0;31mStopIteration\u001b[0m                             Traceback (most recent call last)",
      "Cell \u001b[0;32mIn[41], line 17\u001b[0m\n\u001b[1;32m     15\u001b[0m    \u001b[38;5;28mprint\u001b[39m(\u001b[38;5;28mnext\u001b[39m(number_list_iter))\n\u001b[1;32m     16\u001b[0m \u001b[38;5;28;01mif\u001b[39;00m \u001b[38;5;18m__name__\u001b[39m \u001b[38;5;241m==\u001b[39m \u001b[38;5;124m'\u001b[39m\u001b[38;5;124m__main__\u001b[39m\u001b[38;5;124m'\u001b[39m:\n\u001b[0;32m---> 17\u001b[0m    \u001b[43mmain\u001b[49m\u001b[43m(\u001b[49m\u001b[43m)\u001b[49m\n",
      "Cell \u001b[0;32mIn[41], line 15\u001b[0m, in \u001b[0;36mmain\u001b[0;34m()\u001b[0m\n\u001b[1;32m     13\u001b[0m \u001b[38;5;28mprint\u001b[39m(\u001b[38;5;28mnext\u001b[39m(number_list_iter))\n\u001b[1;32m     14\u001b[0m \u001b[38;5;66;03m#    an error occurred - StopIteration\u001b[39;00m\n\u001b[0;32m---> 15\u001b[0m \u001b[38;5;28mprint\u001b[39m(\u001b[38;5;28;43mnext\u001b[39;49m\u001b[43m(\u001b[49m\u001b[43mnumber_list_iter\u001b[49m\u001b[43m)\u001b[49m)\n",
      "\u001b[0;31mStopIteration\u001b[0m: "
     ]
    }
   ],
   "source": [
    "def main():\n",
    "   number_list = [1, 2, 3, 4, 5]\n",
    "   number_list_iter = iter(number_list)\n",
    "   #    print 1\n",
    "   print(next(number_list_iter))\n",
    "   #    print 2\n",
    "   print(next(number_list_iter))\n",
    "   #    print 3\n",
    "   print(next(number_list_iter))\n",
    "   #    print 4\n",
    "   print(next(number_list_iter))\n",
    "   #    print 5\n",
    "   print(next(number_list_iter))\n",
    "   #    an error occurred - StopIteration\n",
    "   print(next(number_list_iter))\n",
    "if __name__ == '__main__':\n",
    "   main()"
   ]
  },
  {
   "cell_type": "code",
   "execution_count": 51,
   "id": "86f42965-18e0-4d8f-aadf-b72fe9f386b6",
   "metadata": {},
   "outputs": [],
   "source": [
    "class SequenceNumber():\n",
    "   def __init__(self, low, high):\n",
    "       self.low = low\n",
    "       self.high = high\n",
    "   def __iter__(self):\n",
    "       return self\n",
    "   def __next__(self):\n",
    "       if self.low < self.high:\n",
    "           self.low += 1\n",
    "           return self.low - 1\n",
    "       else:\n",
    "            raise StopIteration\n"
   ]
  },
  {
   "cell_type": "code",
   "execution_count": 57,
   "id": "7cea89cf-531a-4861-9731-6d4fea746ae3",
   "metadata": {},
   "outputs": [
    {
     "name": "stdout",
     "output_type": "stream",
     "text": [
      "[0, 1, 2, 3, 4, 5]\n"
     ]
    }
   ],
   "source": [
    "def sequence_number_generator(low, high):\n",
    "   while low <= high:\n",
    "      yield low\n",
    "      low += 1\n",
    "def main():\n",
    "   number_list = []\n",
    "   for number in sequence_number_generator(0, 5):\n",
    "       number_list.append(number)\n",
    "   print(number_list)\n",
    "if __name__ == '__main__':\n",
    "   main()\n"
   ]
  },
  {
   "cell_type": "code",
   "execution_count": 61,
   "id": "282a3261-c76f-475d-b099-4dd2f5172e02",
   "metadata": {},
   "outputs": [
    {
     "name": "stdout",
     "output_type": "stream",
     "text": [
      "3.0\n",
      "4.0\n",
      "5.0\n",
      "6.0\n",
      "7.0\n",
      "8.0\n"
     ]
    }
   ],
   "source": [
    "from itertools import count\n",
    "def main():\n",
    "      sequence = count(start=2.5, step=0.5)\n",
    "      while(next(sequence) <= 8):\n",
    "          print(next(sequence))\n",
    "if __name__ == '__main__':\n",
    "      main()"
   ]
  },
  {
   "cell_type": "code",
   "execution_count": 63,
   "id": "af12126e-57f5-498d-9d51-acbee5af9141",
   "metadata": {},
   "outputs": [
    {
     "name": "stdout",
     "output_type": "stream",
     "text": [
      "employee\n",
      "customer\n",
      "employee\n",
      "customer\n",
      "employee\n",
      "customer\n"
     ]
    }
   ],
   "source": [
    "from itertools import cycle\n",
    "def main():\n",
    "      person = cycle([\"employee\",\"customer\"])\n",
    "      count = 0\n",
    "      while(count != 6):\n",
    "          print(next(person))\n",
    "          count+=1\n",
    "if __name__ == '__main__':\n",
    "      main()"
   ]
  },
  {
   "cell_type": "code",
   "execution_count": 65,
   "id": "7e2d901d-c8f3-4fbe-a230-1ae320596031",
   "metadata": {},
   "outputs": [
    {
     "name": "stdout",
     "output_type": "stream",
     "text": [
      "1000\n",
      "1000\n",
      "1000\n"
     ]
    }
   ],
   "source": [
    "from itertools import repeat\n",
    "def main():\n",
    "      person = repeat(object=1000, times=3)\n",
    "      count = 0\n",
    "      while(count != 3):\n",
    "          print(next(person))\n",
    "          count+=1\n",
    "if __name__ == '__main__':\n",
    "      main()\n"
   ]
  },
  {
   "cell_type": "code",
   "execution_count": null,
   "id": "30b54642-8f09-4de4-9fb2-98ccf4b4349f",
   "metadata": {},
   "outputs": [],
   "source": []
  }
 ],
 "metadata": {
  "kernelspec": {
   "display_name": "anaconda-2024.02-py310",
   "language": "python",
   "name": "conda-env-anaconda-2024.02-py310-py"
  },
  "language_info": {
   "codemirror_mode": {
    "name": "ipython",
    "version": 3
   },
   "file_extension": ".py",
   "mimetype": "text/x-python",
   "name": "python",
   "nbconvert_exporter": "python",
   "pygments_lexer": "ipython3",
   "version": "3.10.14"
  }
 },
 "nbformat": 4,
 "nbformat_minor": 5
}

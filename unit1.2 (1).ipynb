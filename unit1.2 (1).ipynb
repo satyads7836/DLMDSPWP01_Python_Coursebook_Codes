{
 "cells": [
  {
   "cell_type": "code",
   "execution_count": 1,
   "id": "3efad08b-a59f-4b34-b2aa-21913ec01f2e",
   "metadata": {},
   "outputs": [
    {
     "name": "stdout",
     "output_type": "stream",
     "text": [
      "The message is: I like Python programming language\n"
     ]
    }
   ],
   "source": [
    "def print_message(message):\n",
    "   print(\"The message is: {}\".format(message))\n",
    "def main():\n",
    "   my_message = \"I like Python programming language\"\n",
    "   # calling function\n",
    "   print_message(my_message)\n",
    "if __name__ == '__main__':\n",
    "   main()"
   ]
  },
  {
   "cell_type": "code",
   "execution_count": 10,
   "id": "08a1735c-7361-489f-b7cb-5280cbe5b6c0",
   "metadata": {},
   "outputs": [],
   "source": [
    "def addition_two_number(number_1, number_2):\n",
    "   \"\"\"\n",
    "   calculate the addition of two numbers\n",
    "   :param number_1: first number\n",
    "   :param number_2: second number\n",
    "   :return: sum of first number plus\n",
    "   \"\"\"\n",
    "   number_addition = number_1 + number_2\n",
    "   return(number_addition)"
   ]
  },
  {
   "cell_type": "code",
   "execution_count": 14,
   "id": "f0d6da53-9ccd-451d-b7b4-da73868015ad",
   "metadata": {},
   "outputs": [
    {
     "name": "stdout",
     "output_type": "stream",
     "text": [
      "The result is: 300\n"
     ]
    }
   ],
   "source": [
    "number_1 = 100\n",
    "number_2 = 200\n",
    "result = addition_two_number(number_1, number_2)\n",
    "print(\"The result is: {}\".format(result))"
   ]
  },
  {
   "cell_type": "code",
   "execution_count": 25,
   "id": "2741f747-4ef9-4309-a88a-76aa267d5506",
   "metadata": {},
   "outputs": [],
   "source": [
    "def payment_day(working_hours, payment_hour=25):\n",
    "   '''\n",
    "   calculate payment by day\n",
    "   :param working_hours: amount of working hours\n",
    "   :param payment_hour: payment by hour\n",
    "   :return: payment by day\n",
    "   '''\n",
    "   total_payment = working_hours * payment_hour\n",
    "   return total_payment"
   ]
  },
  {
   "cell_type": "code",
   "execution_count": 27,
   "id": "0bf36928-378a-466b-9e0c-893e3c0f19e8",
   "metadata": {},
   "outputs": [
    {
     "name": "stdout",
     "output_type": "stream",
     "text": [
      "The total payment is: 200\n"
     ]
    }
   ],
   "source": [
    "working_hours = 8\n",
    "# calling function\n",
    "total_payment = payment_day(working_hours)\n",
    "print(\"The total payment is: {}\".format(total_payment))"
   ]
  },
  {
   "cell_type": "code",
   "execution_count": 29,
   "id": "a3fae081-3a41-4e28-bd94-5ebb8b99c1a4",
   "metadata": {},
   "outputs": [
    {
     "name": "stdout",
     "output_type": "stream",
     "text": [
      "The total payment is: 200\n"
     ]
    }
   ],
   "source": [
    "working_hours = 8\n",
    "payment_hour = 25\n",
    "total_payment = payment_day(working_hours, payment_hour) \n",
    "print(\"The total payment is: {}\".format(total_payment))\n"
   ]
  },
  {
   "cell_type": "code",
   "execution_count": 31,
   "id": "1a62dbed-4e91-4162-aa40-bf5446f9cb29",
   "metadata": {},
   "outputs": [
    {
     "name": "stdout",
     "output_type": "stream",
     "text": [
      "result_1: 15\n",
      "result_2: 55\n"
     ]
    }
   ],
   "source": [
    "def sum_number(*args):\n",
    " total_sum = sum(args)\n",
    " return total_sum\n",
    "def main():\n",
    "   result_1 = sum_number(1, 2, 3, 4, 5)\n",
    "   print(\"result_1: {}\".format(result_1))\n",
    "   result_2 = sum_number(1, 2, 3, 4, 5, 6, 7, 8, 9, 10)\n",
    "   print(\"result_2: {}\".format(result_2))\n",
    "if __name__ == '__main__':\n",
    "   main()"
   ]
  },
  {
   "cell_type": "code",
   "execution_count": 33,
   "id": "09509045-28e0-4499-957e-d71df7cff28f",
   "metadata": {},
   "outputs": [
    {
     "name": "stdout",
     "output_type": "stream",
     "text": [
      "The value of value1: 1\n",
      "The value of value2: Python\n",
      "The value of value3: False\n",
      "The value of value4: 3.14\n"
     ]
    }
   ],
   "source": [
    "def print_dictionary(**kwargs):\n",
    "   for key, value in kwargs.items():\n",
    "       print(\"The value of {}: {}\".format(key, value))\n",
    "def main():\n",
    "   print_dictionary(value1=1, value2=\"Python\", value3=False, value4=3.14)\n",
    "if __name__ == '__main__':\n",
    "   main()"
   ]
  },
  {
   "cell_type": "code",
   "execution_count": 54,
   "id": "8794930f-c0ba-4fd9-8533-81e7b97223db",
   "metadata": {},
   "outputs": [
    {
     "name": "stdout",
     "output_type": "stream",
     "text": [
      "The value double in main() is: 100\n",
      "The x global after main() is: 100\n"
     ]
    }
   ],
   "source": [
    "x_global = 100\n",
    "def calculate_double(x):\n",
    "  global x_local\n",
    "  x_local = x * 2\n",
    " return x_local\n",
    "def main():\n",
    "   value = 10\n",
    "   value_double = calculate_double(value)\n",
    "   print(\"The value double in main() is: {}\".format(x_global))\n",
    "   #print(\"The x local in main() is: {}\".format(x_local))\n",
    "if __name__ == '__main__':\n",
    "   main()\n",
    "   print(\"The x global after main() is: {}\".format(x_global))"
   ]
  },
  {
   "cell_type": "code",
   "execution_count": 144,
   "id": "f13e764d-d613-4ed2-b976-c25406997852",
   "metadata": {},
   "outputs": [
    {
     "ename": "IndentationError",
     "evalue": "unexpected indent (1347637354.py, line 4)",
     "output_type": "error",
     "traceback": [
      "\u001b[0;36m  Cell \u001b[0;32mIn[144], line 4\u001b[0;36m\u001b[0m\n\u001b[0;31m    def inner_function():\u001b[0m\n\u001b[0m    ^\u001b[0m\n\u001b[0;31mIndentationError\u001b[0m\u001b[0;31m:\u001b[0m unexpected indent\n"
     ]
    }
   ],
   "source": [
    "def outer_function(x):\n",
    "   ''' enclosing function\n",
    "   '''\n",
    "    def inner_function():\n",
    "        '''\n",
    "        nested function\n",
    "        '''\n",
    "        # nonlocal x\n",
    "        x= 5\n",
    "        print(\"The x value inside inner function is: {}\".format(x)) \n",
    "        x_local = x * 2\n",
    "        print(\"The x local value inside inner function is {}\".format(x_local))\n",
    "    inner_function()\n",
    "    #print(\"The x value outside inner function is: {}\".format(x))\n",
    "def main():\n",
    "   value = 10\n",
    "   value_double = outer_function(value)\n",
    "if __name__ == '__main__':\n",
    "main()"
   ]
  },
  {
   "cell_type": "code",
   "execution_count": 146,
   "id": "40d596fd-df57-4db6-9975-7d465c49860b",
   "metadata": {},
   "outputs": [
    {
     "name": "stdout",
     "output_type": "stream",
     "text": [
      "The x value is: 20\n"
     ]
    }
   ],
   "source": [
    "def main():\n",
    "   function_double = lambda x : x * 2\n",
    "   x = 10\n",
    "   print(\"The x value is: {}\".format(function_double(x)))\n",
    "if __name__ == '__main__':\n",
    "   main()"
   ]
  },
  {
   "cell_type": "code",
   "execution_count": null,
   "id": "b3578da0-0b9f-4c19-ab6b-ec845e768a2c",
   "metadata": {},
   "outputs": [],
   "source": []
  }
 ],
 "metadata": {
  "kernelspec": {
   "display_name": "anaconda-panel-2023.05-py310",
   "language": "python",
   "name": "conda-env-anaconda-panel-2023.05-py310-py"
  },
  "language_info": {
   "codemirror_mode": {
    "name": "ipython",
    "version": 3
   },
   "file_extension": ".py",
   "mimetype": "text/x-python",
   "name": "python",
   "nbconvert_exporter": "python",
   "pygments_lexer": "ipython3",
   "version": "3.11.5"
  }
 },
 "nbformat": 4,
 "nbformat_minor": 5
}
